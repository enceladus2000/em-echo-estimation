{
 "cells": [
  {
   "cell_type": "code",
   "execution_count": 1,
   "metadata": {},
   "outputs": [],
   "source": [
    "import numpy as np\n",
    "import matplotlib.pyplot as plt\n",
    "import sys, os, copy\n",
    "from em.signal_utils import delay_signal"
   ]
  },
  {
   "cell_type": "code",
   "execution_count": 2,
   "metadata": {},
   "outputs": [],
   "source": [
    "import matplotlib as mpl\n",
    "plt.rcParams['figure.figsize'] = [5, 2.5]\n",
    "plt.rcParams['figure.autolayout'] = True\n",
    "mpl.rcParams.update({'axes.grid': True})"
   ]
  },
  {
   "cell_type": "code",
   "execution_count": 3,
   "metadata": {},
   "outputs": [
    {
     "name": "stdout",
     "output_type": "stream",
     "text": [
      "340\n"
     ]
    }
   ],
   "source": [
    "from em.signal_utils import gen_ir\n",
    "\n",
    "toas_gt = np.array([134.221, 143.1, 202.01, 240.9])\n",
    "gains_gt = np.array([1., .5, .4, .35])\n",
    "fdflen = 41\n",
    "ir_gt = gen_ir(int(toas_gt.max()+100), toas_gt, gains_gt, fdflen)\n",
    "N = ir_gt.shape[0]\n",
    "print(N)\n",
    "\n",
    "from em.signal_utils import gen_chirp\n",
    "from numpy.fft import fft, rfft, ifft, irfft, fftfreq, rfftfreq\n",
    "f0 = 0.5 / 100  # unit is periods per sample. 0.5 is Nyquist frequency\n",
    "f1 = 0.45\n",
    "chp_len = 1000\n",
    "sig_len = chp_len + len(ir_gt)\n",
    "chp_signal = gen_chirp(f0, f1, chp_len, sig_len)\n",
    "chp_signal_fft = rfft(chp_signal)"
   ]
  },
  {
   "cell_type": "code",
   "execution_count": 4,
   "metadata": {},
   "outputs": [
    {
     "data": {
      "image/png": "[encoded data removed]",
      "text/plain": [
       "<Figure size 500x250 with 1 Axes>"
      ]
     },
     "metadata": {},
     "output_type": "display_data"
    }
   ],
   "source": [
    "%matplotlib inline\n",
    "mic_signal = np.convolve(chp_signal, ir_gt, mode='full')[:sig_len]\n",
    "plt.plot(mic_signal[:])\n",
    "plt.show()"
   ]
  },
  {
   "cell_type": "markdown",
   "metadata": {},
   "source": [
    "## Rxs and delay_signal"
   ]
  },
  {
   "cell_type": "markdown",
   "metadata": {},
   "source": [
    "### Check that np.dot(mic_signal, delay_signal(chp_signal)) and Rxs are same, and that the former interpolates the latter properly."
   ]
  },
  {
   "cell_type": "code",
   "execution_count": 45,
   "metadata": {},
   "outputs": [],
   "source": [
    "Rxsfull = np.correlate(mic_signal, chp_signal, mode='full')\n",
    "toa_range = [100, 300]\n",
    "nmin, nmax = np.array(toa_range, dtype=int) + len(chp_signal) - 1\n",
    "Rxs = Rxsfull[nmin:nmax]\n",
    "\n",
    "Jfactor = 50\n",
    "Jvals = np.empty(Jfactor*(toa_range[1]-toa_range[0]))\n",
    "for i in range(len(Jvals)):\n",
    "    Jvals[i] = np.dot(\n",
    "        mic_signal, \n",
    "        delay_signal(chp_signal, i/Jfactor+toa_range[0], flen=41)\n",
    "    )\n",
    "\n",
    "%matplotlib qt\n",
    "xaxis = np.arange(Jfactor*len(Rxs))/Jfactor\n",
    "plt.plot(xaxis[::Jfactor], Rxs, label='Rxs', marker='.')\n",
    "plt.plot(xaxis, Jvals, label='Jvals', alpha=0.7)\n",
    "# plt.plot(ir_gt[100:300]*1000, label='ir_gt', alpha=0.7)\n",
    "plt.legend()\n",
    "plt.show()\n",
    "# PASSED "
   ]
  },
  {
   "cell_type": "code",
   "execution_count": 46,
   "metadata": {},
   "outputs": [
    {
     "data": {
      "text/plain": [
       "array([ 34.221,  43.1  , 102.01 , 140.9  ])"
      ]
     },
     "execution_count": 46,
     "metadata": {},
     "output_type": "execute_result"
    }
   ],
   "source": [
    "toas_gt - toa_range[0]"
   ]
  },
  {
   "cell_type": "markdown",
   "metadata": {},
   "source": [
    "### Check minimize_scalar with J"
   ]
  },
  {
   "cell_type": "code",
   "execution_count": 48,
   "metadata": {},
   "outputs": [
    {
     "name": "stdout",
     "output_type": "stream",
     "text": [
      " \n",
      " Func-count     x          f(x)          Procedure\n",
      "    1        140.528     -143.586        initial\n",
      "    2        141.472     -106.819        golden\n",
      "    3        139.944     -24.4023        golden\n",
      "    4        140.878     -175.412        parabolic\n",
      "    5        140.911     -175.543        parabolic\n",
      "    6        140.903      -175.56        parabolic\n",
      "    7        140.902      -175.56        parabolic\n",
      "    8        140.902      -175.56        parabolic\n",
      "\n",
      "Optimization terminated successfully;\n",
      "The returned value satisfies the termination criteria\n",
      "(using xtol =  0.001 )\n",
      "140.90244961165385 True\n"
     ]
    }
   ],
   "source": [
    "from scipy.optimize import minimize_scalar\n",
    "\n",
    "cand = 141  # peak in Rxs; actual toa is cand+toa_range[0]\n",
    "def J(c):\n",
    "    return -np.dot(\n",
    "        mic_signal, \n",
    "        delay_signal(chp_signal, c+toa_range[0], flen=41)\n",
    "    )\n",
    "\n",
    "res = minimize_scalar(\n",
    "    J,\n",
    "    method='bounded',\n",
    "    # bracket=[cand-1, cand, cand+1],\n",
    "    bracket=[cand-1, cand+1],\n",
    "    # bounds=toa_range,\n",
    "    # bounds=[cand-10, cand+10],\n",
    "    bounds=[cand-2, cand+2],\n",
    "    options={\n",
    "        'maxiter': 20,\n",
    "        'disp': 3,\n",
    "        'xatol': 1e-3,\n",
    "    }\n",
    ")\n",
    "print(res.x, res.success, )"
   ]
  },
  {
   "cell_type": "code",
   "execution_count": 52,
   "metadata": {},
   "outputs": [
    {
     "data": {
      "text/plain": [
       "True"
      ]
     },
     "execution_count": 52,
     "metadata": {},
     "output_type": "execute_result"
    },
    {
     "ename": "",
     "evalue": "",
     "output_type": "error",
     "traceback": [
      "\u001b[1;31mThe Kernel crashed while executing code in the current cell or a previous cell. \n",
      "\u001b[1;31mPlease review the code in the cell(s) to identify a possible cause of the failure. \n",
      "\u001b[1;31mClick <a href='https://aka.ms/vscodeJupyterKernelCrash'>here</a> for more info. \n",
      "\u001b[1;31mView Jupyter <a href='command:jupyter.viewOutput'>log</a> for further details."
     ]
    }
   ],
   "source": [
    "res.success"
   ]
  },
  {
   "cell_type": "code",
   "execution_count": 50,
   "metadata": {},
   "outputs": [
    {
     "name": "stdout",
     "output_type": "stream",
     "text": [
      "Options\n",
      "-------\n",
      "maxiter : int\n",
      "    Maximum number of iterations to perform.\n",
      "disp: int, optional\n",
      "    If non-zero, print messages.\n",
      "        0 : no message printing.\n",
      "        1 : non-convergence notification messages only.\n",
      "        2 : print a message on convergence too.\n",
      "        3 : print iteration results.\n",
      "xatol : float\n",
      "    Absolute error in solution `xopt` acceptable for convergence.\n"
     ]
    }
   ],
   "source": [
    "from scipy.optimize import show_options\n",
    "show_options('minimize_scalar', method='bounded', disp=True)"
   ]
  }
 ],
 "metadata": {
  "kernelspec": {
   "display_name": "Python 3",
   "language": "python",
   "name": "python3"
  },
  "language_info": {
   "codemirror_mode": {
    "name": "ipython",
    "version": 3
   },
   "file_extension": ".py",
   "mimetype": "text/x-python",
   "name": "python",
   "nbconvert_exporter": "python",
   "pygments_lexer": "ipython3",
   "version": "3.11.1"
  }
 },
 "nbformat": 4,
 "nbformat_minor": 2
}
